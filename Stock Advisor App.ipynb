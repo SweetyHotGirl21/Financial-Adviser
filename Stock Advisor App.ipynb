{
 "cells": [
  {
   "cell_type": "markdown",
   "metadata": {},
   "source": [
    "## Functions"
   ]
  },
  {
   "cell_type": "code",
   "execution_count": null,
   "metadata": {},
   "outputs": [],
   "source": [
    "from financial_data_loading import *"
   ]
  },
  {
   "cell_type": "markdown",
   "metadata": {},
   "source": [
    "### Function Area 1: Risk Level"
   ]
  },
  {
   "cell_type": "code",
   "execution_count": null,
   "metadata": {},
   "outputs": [],
   "source": [
    "# Cluster stocks based on their returns --> Low risk: first 3rd with lowest volatility, medium: first two, high: all\n",
    "def risk_sorting(business_df, risk_level):\n",
    "    std_sorted_business = business_df.sort_values(by=\"volatility\", ascending = True)\n",
    "    if risk_level.lower() == \"low\":\n",
    "        risk_selected_df = std_sorted_business[:int(len(business_df)/3)]\n",
    "    elif risk_level.lower() == \"medium\":\n",
    "        risk_selected_df = std_sorted_business[:int((len(business_df)/3)*2)]\n",
    "    else:\n",
    "        risk_selected_df = business_df\n",
    "    \n",
    "    return risk_selected_df"
   ]
  },
  {
   "cell_type": "markdown",
   "metadata": {},
   "source": [
    "### Function area 2: Business criteria"
   ]
  },
  {
   "cell_type": "code",
   "execution_count": null,
   "metadata": {},
   "outputs": [],
   "source": [
    "from business import *"
   ]
  },
  {
   "cell_type": "markdown",
   "metadata": {},
   "source": [
    "### Function area 3: Sustainability criteria"
   ]
  },
  {
   "cell_type": "code",
   "execution_count": null,
   "metadata": {},
   "outputs": [],
   "source": [
    "from sustain import *"
   ]
  },
  {
   "cell_type": "markdown",
   "metadata": {},
   "source": [
    "## Function Area 4: Find Buy recommendations"
   ]
  },
  {
   "cell_type": "code",
   "execution_count": null,
   "metadata": {},
   "outputs": [],
   "source": [
    "from recommendation import *"
   ]
  },
  {
   "cell_type": "markdown",
   "metadata": {},
   "source": [
    "## Data Import\n",
    "All function that import the data can be found in the file \"financial_data_loading.py\""
   ]
  },
  {
   "cell_type": "code",
   "execution_count": null,
   "metadata": {
    "scrolled": false
   },
   "outputs": [],
   "source": [
    "business_df, sustain_df, recommendation_df = load_data_csv();"
   ]
  },
  {
   "cell_type": "code",
   "execution_count": null,
   "metadata": {
    "scrolled": true
   },
   "outputs": [],
   "source": [
    "sp_return = load_retrun_time_series(y=2015)"
   ]
  },
  {
   "cell_type": "markdown",
   "metadata": {},
   "source": [
    "### The overall stock dataframe will be filtered to only contain stocks that are contained in the Return Dataframe"
   ]
  },
  {
   "cell_type": "code",
   "execution_count": null,
   "metadata": {},
   "outputs": [],
   "source": [
    "business_df = business_df[business_df[\"symbol\"].isin(list(sp_return))]"
   ]
  },
  {
   "cell_type": "markdown",
   "metadata": {},
   "source": [
    "## Volatility, returns, Sharpe Ratio"
   ]
  },
  {
   "cell_type": "markdown",
   "metadata": {},
   "source": [
    "### Calculating volatility = annual standard deviation\n",
    "Annualised volatility is calculated as the annualised standard deviation of each stock's return"
   ]
  },
  {
   "cell_type": "code",
   "execution_count": null,
   "metadata": {
    "scrolled": true
   },
   "outputs": [],
   "source": [
    "return_data = sp_return[sp_return.index > \"2015-01-01\"]\n",
    "annual_std = []\n",
    "for stock in return_data.columns:\n",
    "    annual_std.append(np.std(return_data[stock])* 252 ** 0.5)\n",
    "    \n",
    "business_df[\"volatility\"] = annual_std"
   ]
  },
  {
   "cell_type": "markdown",
   "metadata": {},
   "source": [
    "### Determining yearly returns with help of log-returns"
   ]
  },
  {
   "cell_type": "code",
   "execution_count": null,
   "metadata": {
    "scrolled": false
   },
   "outputs": [],
   "source": [
    "# Creating log-return columns\n",
    "log_return_list = []\n",
    "return_data = sp_return.copy()\n",
    "col_limit = return_data.shape[1]\n",
    "for stock in return_data.columns[:col_limit]:\n",
    "    return_data[f\"{stock}_log_return\"] =  np.log(1 + return_data[stock])\n",
    "    \n",
    "#Creating list with all log-returns\n",
    "for stock in return_data.columns[:col_limit]:\n",
    "    log_return_list.append(np.mean(return_data[f\"{stock}_log_return\"]))\n",
    "    \n",
    "# Annualising log-returns\n",
    "for i, item in enumerate(log_return_list):\n",
    "    log_return_list[i] = log_return_list[i] * 250\n",
    "\n",
    "    # Adding annualised returns to DF\n",
    "business_df[\"yearly_return\"] = log_return_list"
   ]
  },
  {
   "cell_type": "markdown",
   "metadata": {},
   "source": [
    "### Calculating sharpe-ratio based (assumption: risk-free rate is currently 0)"
   ]
  },
  {
   "cell_type": "code",
   "execution_count": null,
   "metadata": {},
   "outputs": [],
   "source": [
    "business_df[\"sharpe_ratio\"] = business_df[\"yearly_return\"] / business_df[\"volatility\"]"
   ]
  },
  {
   "cell_type": "markdown",
   "metadata": {},
   "source": [
    "## Filter companies with Buy Recommendation\n",
    "In the following cell, all companies with a Buy recommendation will be filtered from the overall stock dataframe"
   ]
  },
  {
   "cell_type": "code",
   "execution_count": null,
   "metadata": {},
   "outputs": [],
   "source": [
    "# Show comapanies which have more buy recommendations then sell or neutral\n",
    "# import from the file recoommendation.py the function recom\n",
    "# gives the dataframe with all the companies for which the descripted is TRUE\n",
    "recom_dict = {}\n",
    "for ticker in list(recommendation_df.columns):\n",
    "    recomm = recom(ticker,recommendation_df,m = 6)\n",
    "    recom_dict[ticker] = recomm\n",
    "\n",
    "recom_df = pd.DataFrame(recom_dict, index=[\"Rank\"])\n",
    "psoitiv_recom = recom_df[recom_df > 0]\n",
    "psoitiv_recom.dropna(axis=1)\n",
    "\n",
    "# Only keep the companies with a postive recommendation score\n",
    "business_df_recommend = business_df[business_df[\"symbol\"].isin(list(psoitiv_recom.dropna(axis=1)))]\n",
    "business_df_recommend = business_df_recommend.set_index(\"symbol\", drop = False)"
   ]
  },
  {
   "cell_type": "markdown",
   "metadata": {},
   "source": [
    "## Interface"
   ]
  },
  {
   "cell_type": "markdown",
   "metadata": {},
   "source": [
    "#### Running the following section will trigger the interface of the investment advisor app"
   ]
  },
  {
   "cell_type": "code",
   "execution_count": null,
   "metadata": {},
   "outputs": [],
   "source": [
    "import tkinter as tk\n",
    "\n",
    "def create_result(business_df_recommend = business_df_recommend):\n",
    "\n",
    "    growth = get_growth_comp(business_df_recommend, option_Question4.get())\n",
    "    div = get_div_comp(business_df_recommend, option_Question5.get())\n",
    "    business_df_recom = business_df_recommend.copy()\n",
    "    business_df_recom = (business_df_recom[(business_df_recom[\"symbol\"].isin(div)) & (business_df_recom[\"symbol\"].isin(growth))])\n",
    "\n",
    "    nuc = nuclear(sustain_df,option_Question6.get())\n",
    "    env = environment(sustain_df,option_Question7.get())\n",
    "    soc = social(sustain_df,option_Question8.get())\n",
    "\n",
    "    new_sustain = (sustain_df[(sustain_df[\"symbol\"].isin(nuc)) & (sustain_df[\"symbol\"].isin(env))\n",
    "                              & (sustain_df[\"symbol\"].isin(soc))])\n",
    "\n",
    "    sus_list = list(new_sustain[\"symbol\"])\n",
    "\n",
    "    FINAL = business_df_recom[business_df_recom[\"symbol\"].isin(sus_list)]\n",
    "    \n",
    "    FINAL = risk_sorting(FINAL, risk_level = option_Risk.get())\n",
    "    \n",
    "    FINAL.sort_values(by = \"sharpe_ratio\", ascending = False, inplace = True)\n",
    "\n",
    "    if len(FINAL) >= 3:\n",
    "        output_1 = FINAL.longName.iloc[0] \n",
    "        output_2 = FINAL.longName.iloc[1]\n",
    "        output_3 = FINAL.longName.iloc[2]\n",
    "    \n",
    "    elif len(FINAL) == 2:\n",
    "        output_1 = FINAL.longName.iloc[0] \n",
    "        output_2 = FINAL.longName.iloc[1]\n",
    "        output_3 = \"\"\n",
    "        \n",
    "    elif len(FINAL) == 1:\n",
    "        output_1 = FINAL.longName.iloc[0] \n",
    "        output_2 = \"\"\n",
    "        output_3 = \"\"\n",
    "\n",
    "    else:\n",
    "        output_1 = \"\"\n",
    "        output_2 = \"\"\n",
    "        output_3 = \"\"\n",
    "        \n",
    "        \n",
    "    if len(output_1) > 0 and len(output_2) > 0 and len(output_3) > 0:\n",
    "        lbl_result[\"text\"] = f\"First recommended stock: {output_1}\\nSecond recommended stock: {output_2}\\nThird recommended stock: {output_3}\"\n",
    "    \n",
    "    elif len(output_1) > 0 and len(output_2) > 0:\n",
    "        lbl_result[\"text\"] = f\"First recommended stock: {output_1}\\nSecond recommended stock: {output_2}\"\n",
    "    \n",
    "    elif len(output_1) > 0:\n",
    "        lbl_result[\"text\"] = f\"Recommended stock: {output_1}\"\n",
    "    \n",
    "    else:\n",
    "        lbl_result[\"text\"] = f\"Sorry, we could not find a stock that matches your criteria.\\nPlease change your selection\"\n",
    "window = tk.Tk()\n",
    "window.title(\"Your Investment Selection Advisor\")\n",
    "\n",
    "frm_entry = tk.Frame(master=window)\n",
    "\n",
    "\n",
    "\n",
    "#Question 1 = Risk Level\n",
    "#1.1 Set first input field with dropdown and label\n",
    "option_Risk = tk.StringVar(master = frm_entry)\n",
    "options_risk = (\"Low\",\"Medium\",\"High\")\n",
    "menu_risk = tk.OptionMenu(frm_entry,option_Risk,*options_risk)\n",
    "menu_risk.grid(row=0, column=1, sticky=\"w\")\n",
    "option_Risk.set(\"\")\n",
    "\n",
    "#1.2 Set label name for first input field\n",
    "lbl_name = tk.Label(master=frm_entry, text=\"How high can the risk of your investment be?\")\n",
    "lbl_name.grid(row=0, column=0, sticky=\"e\")\n",
    "\n",
    "\n",
    "#Question 4: Growth company - yes/ no\n",
    "#4.1 Set 4th input field with dropdown and label\n",
    "option_Question4 = tk.StringVar(master = frm_entry)\n",
    "options_question4 = (\"Yes\",\"No\")\n",
    "menu_question4 = tk.OptionMenu(frm_entry,option_Question4,*options_question4)\n",
    "menu_question4.grid(row=3, column=1, sticky=\"w\")\n",
    "option_Question4.set(\"\")\n",
    "\n",
    "#4.2 Set label name for second input field\n",
    "lbl_name = tk.Label(master=frm_entry, text=\"Do you want to invest in a company with an perspective of growth compared to a compay wich is established in the market?\")\n",
    "lbl_name.grid(row=3, column=0, sticky=\"e\")\n",
    "\n",
    "\n",
    "#Question 5: Dividend payments\n",
    "#5.1 Set 5th input field with dropdown and label\n",
    "option_Question5 = tk.StringVar(master = frm_entry)\n",
    "options_question5 = (\"Yes\",\"No\")\n",
    "menu_question5 = tk.OptionMenu(frm_entry,option_Question5,*options_question5)\n",
    "menu_question5.grid(row=4, column=1, sticky=\"w\")\n",
    "option_Question5.set(\"\")\n",
    "\n",
    "#5.2 Set label name for second input field\n",
    "lbl_name = tk.Label(master=frm_entry, text=\"Is it important to you that your investment pays regulary small amounts of money, even though it may grow slower?\")\n",
    "lbl_name.grid(row=4, column=0, sticky=\"e\")\n",
    "\n",
    "#Question 6: Nuclear power\n",
    "#6.1 Set 5th input field with dropdown and label\n",
    "option_Question6 = tk.StringVar(master = frm_entry)\n",
    "options_question6 = (\"Yes\",\"No\")\n",
    "menu_question6 = tk.OptionMenu(frm_entry,option_Question6,*options_question6)\n",
    "menu_question6.grid(row=5, column=1, sticky=\"w\")\n",
    "option_Question6.set(\"\")\n",
    "\n",
    "#6.2 Set label name for second input field\n",
    "lbl_name = tk.Label(master=frm_entry, text=\"Are you willing to invest in a company that uses nuclear power? \")\n",
    "lbl_name.grid(row=5, column=0, sticky=\"e\")\n",
    "\n",
    "\n",
    "#Question 7: Environmental importance\n",
    "#7.1 Set 7th input field with dropdown and label\n",
    "option_Question7 = tk.StringVar(master = frm_entry)\n",
    "options_question7 = (\"Yes\",\"No\")\n",
    "menu_question7 = tk.OptionMenu(frm_entry,option_Question7,*options_question6)\n",
    "menu_question7.grid(row=6, column=1, sticky=\"w\")\n",
    "option_Question7.set(\"\")\n",
    "\n",
    "#7.2 Set label name for 7th input field\n",
    "lbl_name = tk.Label(master=frm_entry, text=\"Are you concerned about environmental impacts of the companies? \")\n",
    "lbl_name.grid(row=6, column=0, sticky=\"e\")\n",
    "\n",
    "\n",
    "#Question 8: Social importance\n",
    "#8.1 Set 8th input field with dropdown and label\n",
    "option_Question8 = tk.StringVar(master = frm_entry)\n",
    "options_question8 = (\"Yes\",\"No\")\n",
    "menu_question8 = tk.OptionMenu(frm_entry,option_Question8,*options_question6)\n",
    "menu_question8.grid(row=7, column=1, sticky=\"w\")\n",
    "option_Question8.set(\"\")\n",
    "\n",
    "#7.2 Set label name for 7th input field\n",
    "lbl_name = tk.Label(master=frm_entry, text=\"Are you concerned about social impacts of the companies? \")\n",
    "lbl_name.grid(row=7, column=0, sticky=\"e\")\n",
    "\n",
    "btn_convert = tk.Button(\n",
    "    master=window,\n",
    "    text=\"Find your best stocks\",\n",
    "    command = create_result\n",
    ")\n",
    "\n",
    "lbl_result = tk.Label(master=window, text=\"Result\")\n",
    "\n",
    "# Set-up the layout using the .grid() geometry manager\n",
    "frm_entry.grid(row=0, column=0, padx=10)\n",
    "btn_convert.grid(row=2, column=1, pady=10)\n",
    "lbl_result.grid(row=3, column=1, padx=10)\n",
    "\n",
    "# Run the application\n",
    "window.mainloop()"
   ]
  },
  {
   "cell_type": "code",
   "execution_count": null,
   "metadata": {},
   "outputs": [],
   "source": []
  }
 ],
 "metadata": {
  "kernelspec": {
   "display_name": "Python 3",
   "language": "python",
   "name": "python3"
  },
  "language_info": {
   "codemirror_mode": {
    "name": "ipython",
    "version": 3
   },
   "file_extension": ".py",
   "mimetype": "text/x-python",
   "name": "python",
   "nbconvert_exporter": "python",
   "pygments_lexer": "ipython3",
   "version": "3.8.8"
  }
 },
 "nbformat": 4,
 "nbformat_minor": 4
}
